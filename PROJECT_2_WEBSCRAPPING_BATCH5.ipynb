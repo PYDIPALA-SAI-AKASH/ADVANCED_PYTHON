{
 "cells": [
  {
   "cell_type": "code",
   "execution_count": 1,
   "id": "8a186876",
   "metadata": {},
   "outputs": [],
   "source": [
    "PROJECT 2\n",
    "USING SELENIUM MODULE\n",
    "COMPARED THE PRICES BETWEEN FLIPKART AND AMAZON OF THE PRODUCT SAMSUNG CALAXY S24 ULTRA"
   ]
  },
  {
   "cell_type": "code",
   "execution_count": null,
   "id": "c986b560",
   "metadata": {},
   "outputs": [],
   "source": [
    "from selenium import webdriver\n",
    "from selenium.webdriver.chrome.service import Service\n",
    "from selenium.webdriver.common.by import By"
   ]
  },
  {
   "cell_type": "code",
   "execution_count": 3,
   "id": "02052bca",
   "metadata": {},
   "outputs": [],
   "source": [
    "from selenium import webdriver\n",
    "\n",
    "chrome_path = (r\"C:\\Users\\DELL\\Desktop\\chromedriver-win64\\chromedriver-win64\\chromedriver.exe\")\n",
    "webD = webdriver.Chrome(executable_path=chrome_path)\n",
    "webD.get(r\"https://www.amazon.in/Samsung-Galaxy-Smartphone-Titanium-Storage/dp/B0CQYGF1QY/ref=sr_1_1_sspa?dib=eyJ2IjoiMSJ9.Cvb5oQzTTBkyPpPhqlOvz7EOkchHQvkaDbo4APYoTqkyCkDMU0P0AGISBFc0w5QMLvahQc-e4W1EpHPQKrJKT0tnC9eKDwaIKs1yhz1h2QxFeCc7nsqdW_AXyDl6IfEsEaYNCiZMIZGUcZwg69dQmtK51d1ey6bB_1o9O03mfTo0kjyYaSiQT9W1I6d-HqJ0Ep1FfSunwYGWTtKbkF6l6WZR81yNXsJgStRW5EYuiV-p0TlKINP8URLKYjS2D9v1qduBlWWEKcIrrEqTnt5HAooc8vB14NbkFpj_bqvXESU.v7TOLXxZ5L8j24iavxyH9Lr4vZ19xm1r44KhvJ4i9K4&dib_tag=se&keywords=samsung%2Bfold&qid=1708522603&s=electronics&sr=1-1-spons&sp_csd=d2lkZ2V0TmFtZT1zcF9hdGY&th=1\")"
   ]
  },
  {
   "cell_type": "code",
   "execution_count": 44,
   "id": "3acfc426",
   "metadata": {},
   "outputs": [],
   "source": [
    "webD1 = webdriver.Chrome(executable_path=chrome_path)\n",
    "webD1.get(r\"https://www.flipkart.com/samsung-galaxy-z-fold5-cream-256-gb/p/itm5e9a1e2b0b9d9?pid=MOBGRS32ZCAVYQ7V&lid=LSTMOBGRS32ZCAVYQ7VEMYE2L&marketplace=FLIPKART&q=samsung%20fold&sattr[]=color&sattr[]=storage&st=color&otracker=search\")"
   ]
  },
  {
   "cell_type": "code",
   "execution_count": 67,
   "id": "756a7051",
   "metadata": {},
   "outputs": [],
   "source": [
    "Amazon_Mobile_Price = 'return document.getElementById(\"corePriceDisplay_desktop_feature_div\").getElementsByTagName(\"span\")[2].innerText;'\n",
    "amazon = webD.execute_script(Amazon_Mobile_Price)"
   ]
  },
  {
   "cell_type": "code",
   "execution_count": 80,
   "id": "6f2047d7",
   "metadata": {},
   "outputs": [
    {
     "data": {
      "text/plain": [
       "'₹1,34,899'"
      ]
     },
     "execution_count": 80,
     "metadata": {},
     "output_type": "execute_result"
    }
   ],
   "source": [
    "amazon"
   ]
  },
  {
   "cell_type": "code",
   "execution_count": 81,
   "id": "8ea56b9c",
   "metadata": {},
   "outputs": [
    {
     "name": "stdout",
     "output_type": "stream",
     "text": [
      "134899\n"
     ]
    }
   ],
   "source": [
    "cleaned_price_str = ''.join(char for char in amazon if char.isdigit())\n",
    "amazon_price = int(cleaned_price_str)\n",
    "print(amazon_price)"
   ]
  },
  {
   "cell_type": "code",
   "execution_count": null,
   "id": "08466304",
   "metadata": {},
   "outputs": [],
   "source": [
    "flipkart_mobile_price = 'return document.querySelector(\"#container > div > div._2c7YLP.UtUXW0._6t1WkM._3HqJxg > div._1YokD2._2GoDe3 > div._1YokD2._3Mn1Gg.col-8-12 > div:nth-child(2) > div > div.dyC4hf > div.CEmiEU > div > div._30jeq3._16Jk6d\");'\n",
    "flipkart = webD1.execute_script(flipkart_mobile_price)"
   ]
  },
  {
   "cell_type": "code",
   "execution_count": 75,
   "id": "30c807a9",
   "metadata": {},
   "outputs": [
    {
     "data": {
      "text/plain": [
       "'₹1,54,999'"
      ]
     },
     "execution_count": 75,
     "metadata": {},
     "output_type": "execute_result"
    }
   ],
   "source": [
    "flipkart.text"
   ]
  },
  {
   "cell_type": "code",
   "execution_count": 82,
   "id": "e889a1da",
   "metadata": {},
   "outputs": [
    {
     "name": "stdout",
     "output_type": "stream",
     "text": [
      "154999\n"
     ]
    }
   ],
   "source": [
    "cleaned_price_str1 = ''.join(char for char in flipkart.text if char.isdigit())\n",
    "flipkart_price = int(cleaned_price_str1)\n",
    "print(flipkart_price)"
   ]
  },
  {
   "cell_type": "code",
   "execution_count": 84,
   "id": "602ed922",
   "metadata": {},
   "outputs": [
    {
     "name": "stdout",
     "output_type": "stream",
     "text": [
      "Amazon Samsung Mobile has Lower Price than Flipkart with Difference of: 20100\n"
     ]
    }
   ],
   "source": [
    "if amazon_price>flipkart_price:\n",
    "    print(\"Flipkart Samsung Mobile has Lower Price than Amazon with Difference of:\",amazon_price-flipkart_price)\n",
    "elif amazon_price<flipkart_price:\n",
    "    print(\"Amazon Samsung Mobile has Lower Price than Flipkart with Difference of:\",flipkart_price-amazon_price)\n",
    "else:\n",
    "    print(\"Amazon and Flipkart offer same prize for the Mobile\")"
   ]
  },
  {
   "cell_type": "code",
   "execution_count": null,
   "id": "3003c9e3",
   "metadata": {},
   "outputs": [],
   "source": []
  }
 ],
 "metadata": {
  "kernelspec": {
   "display_name": "Python 3 (ipykernel)",
   "language": "python",
   "name": "python3"
  },
  "language_info": {
   "codemirror_mode": {
    "name": "ipython",
    "version": 3
   },
   "file_extension": ".py",
   "mimetype": "text/x-python",
   "name": "python",
   "nbconvert_exporter": "python",
   "pygments_lexer": "ipython3",
   "version": "3.11.5"
  }
 },
 "nbformat": 4,
 "nbformat_minor": 5
}
